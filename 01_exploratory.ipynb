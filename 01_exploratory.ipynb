{
 "cells": [
  {
   "cell_type": "markdown",
   "metadata": {},
   "source": [
    "# TOTVS Data Challenge\n",
    "\n",
    "#### Exploratory Data Analysis\n",
    "\n",
    "Our dataset is the transaction information of many restaurant meals. In this notebook we'll try and find interesting descriptions and patterns in the data."
   ]
  },
  {
   "cell_type": "code",
   "execution_count": 37,
   "metadata": {
    "collapsed": true
   },
   "outputs": [],
   "source": [
    "import pymongo\n",
    "import pprint"
   ]
  },
  {
   "cell_type": "code",
   "execution_count": 39,
   "metadata": {
    "collapsed": true
   },
   "outputs": [],
   "source": [
    "from connectionstring import connectionstring as cs\n",
    "sample = pymongo.MongoClient(cs)['totvs']['sample']"
   ]
  },
  {
   "cell_type": "code",
   "execution_count": 40,
   "metadata": {},
   "outputs": [
    {
     "name": "stdout",
     "output_type": "stream",
     "text": [
      "> complemento \n",
      "\n",
      "{'valorTotal': 28.47}\n",
      "\n",
      "--~--\n",
      "\n",
      "> dets \n",
      "\n",
      "[{'nItem': '1',\n",
      "  'prod': {'indTot': '1',\n",
      "           'qCom': 1.0,\n",
      "           'uCom': 'UN',\n",
      "           'vProd': 3.5,\n",
      "           'vUnCom': 3.5,\n",
      "           'xProd': 'AGUA'}},\n",
      " {'nItem': '2',\n",
      "  'prod': {'indTot': '1',\n",
      "           'qCom': 0.364,\n",
      "           'uCom': 'KG',\n",
      "           'vProd': 24.97,\n",
      "           'vUnCom': 68.6,\n",
      "           'xProd': 'BUFFET'}}]\n",
      "\n",
      "--~--\n",
      "\n",
      "> emit \n",
      "\n",
      "{'cnpj': '01.234.567/0001-89',\n",
      " 'enderEmit': {'fone': '1-650-933-4902',\n",
      "               'uf': 'CA',\n",
      "               'xBairro': '',\n",
      "               'xLgr': '650 Castro St. unit 210',\n",
      "               'xMun': 'Mountain View',\n",
      "               'xPais': 'United States'},\n",
      " 'xFant': 'TOTVS Labs'}\n",
      "\n",
      "--~--\n",
      "\n",
      "> ide \n",
      "\n",
      "{'dhEmi': datetime.datetime(2016, 1, 12, 13, 1, 1), 'natOp': 'VENDA'}\n",
      "\n",
      "--~--\n",
      "\n",
      "> infAdic \n",
      "\n",
      "{'infCpl': 'Mesa 23'}\n",
      "\n",
      "--~--\n",
      "\n",
      "> total \n",
      "\n",
      "{'icmsTot': {'vDesc': 0.0,\n",
      "             'vFrete': 0.0,\n",
      "             'vOutro': 0.0,\n",
      "             'vProd': 28.47,\n",
      "             'vSeg': 0.0,\n",
      "             'vTotTrib': 2.68,\n",
      "             'vbc': 0.0,\n",
      "             'vbcst': 0.0,\n",
      "             'vcofins': 0.0,\n",
      "             'vicms': 0.0,\n",
      "             'vicmsDeson': 0.0,\n",
      "             'vii': 0.0,\n",
      "             'vipi': 0.0,\n",
      "             'vnf': 28.47,\n",
      "             'vpis': 0.0,\n",
      "             'vst': 0.0}}\n",
      "\n",
      "--~--\n",
      "\n",
      "> versaoDocumento \n",
      "\n",
      "1.0\n",
      "\n",
      "--~--\n",
      "\n"
     ]
    }
   ],
   "source": [
    "# retrieving a random document and looking at each feature it has\n",
    "doc = sample.aggregate(\n",
    "   [{ '$sample': { 'size': 1 } }]\n",
    ")\n",
    "\n",
    "doc = list(doc)[0]\n",
    "\n",
    "for k in doc.keys():\n",
    "    if k != '_id':\n",
    "        print('>', k, '\\n')\n",
    "        pprint.pprint(doc[k])\n",
    "        print('\\n--~--\\n')"
   ]
  },
  {
   "cell_type": "markdown",
   "metadata": {},
   "source": [
    "We can see we have data regarding how much the meal cost, discriminated by the food and drinks. What we unfortunely do not have is customer information, as it could be very important for predicting amount spent for example.\n",
    "\n",
    "Let's check some descriptive statistics of our dataset."
   ]
  },
  {
   "cell_type": "code",
   "execution_count": 51,
   "metadata": {},
   "outputs": [
    {
     "data": {
      "text/plain": [
       "{'maxValue': 608.91,\n",
       " 'meanValue': 55.50417125382263,\n",
       " 'minValue': 9.74,\n",
       " 'stdDeviation': 39.20546729763231}"
      ]
     },
     "execution_count": 51,
     "metadata": {},
     "output_type": "execute_result"
    }
   ],
   "source": [
    "# valorTotal\n",
    "sample.aggregate([\n",
    "    {\n",
    "        '$group': {\n",
    "            '_id': None,\n",
    "            'meanValue': {'$avg': '$complemento.valorTotal'},\n",
    "            'stdDeviation': {'$stdDevPop': '$complemento.valorTotal'},\n",
    "            'maxValue': {'$max': '$complemento.valorTotal'},\n",
    "            'minValue': {'$min': '$complemento.valorTotal'}\n",
    "        }\n",
    "    },{\n",
    "        '$project': {\n",
    "            '_id': 0\n",
    "        }\n",
    "    }\n",
    "]).next()"
   ]
  },
  {
   "cell_type": "code",
   "execution_count": null,
   "metadata": {
    "collapsed": true
   },
   "outputs": [],
   "source": []
  }
 ],
 "metadata": {
  "kernelspec": {
   "display_name": "Python 3 [totvs]",
   "language": "python",
   "name": "totvs"
  },
  "language_info": {
   "codemirror_mode": {
    "name": "ipython",
    "version": 3
   },
   "file_extension": ".py",
   "mimetype": "text/x-python",
   "name": "python",
   "nbconvert_exporter": "python",
   "pygments_lexer": "ipython3",
   "version": "3.6.4"
  }
 },
 "nbformat": 4,
 "nbformat_minor": 2
}
